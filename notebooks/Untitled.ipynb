{
 "cells": [
  {
   "cell_type": "markdown",
   "id": "9773a84b",
   "metadata": {},
   "source": [
    "ATTEMPT TO TOKINZE"
   ]
  },
  {
   "cell_type": "code",
   "execution_count": 28,
   "id": "303d8137",
   "metadata": {},
   "outputs": [],
   "source": [
    "import re\n",
    "from collections import Counter\n",
    "import nltk\n",
    "from nltk.corpus import stopwords\n",
    "import os"
   ]
  },
  {
   "cell_type": "code",
   "execution_count": 23,
   "id": "3f284b5b",
   "metadata": {},
   "outputs": [
    {
     "data": {
      "text/plain": [
       "'@user @user So is he banded from wearing the clothes?  #Karma \\n'"
      ]
     },
     "execution_count": 23,
     "metadata": {},
     "output_type": "execute_result"
    }
   ],
   "source": [
    "IRONY = r'../datasets/irony/raw/'\n",
    "#HATE = r'hate/'"
   ]
  },
  {
   "cell_type": "code",
   "execution_count": 58,
   "id": "921abd1d",
   "metadata": {},
   "outputs": [],
   "source": [
    "def tokenize(textfile):\n",
    "\n",
    "    tokens = []\n",
    "    SPLIT = re.compile(r'[\\s\\.,;\\\"\\-\\_\\|]') # TOOK OUT ? !\n",
    "\n",
    "    for line in textfile.readlines():\n",
    "        words = re.split(SPLIT, line)\n",
    "        words = [w for w in words if (not w.startswith('@') and (w != \"\"))]\n",
    "        #hashtags = [w for w in words if w.startswith('#')]\n",
    "        tokens.append(words)\n",
    "\n",
    "    plain = [w for x in file_df for w in x]\n",
    "    c = Counter(plain)\n",
    "    \n",
    "    return tokens"
   ]
  },
  {
   "cell_type": "code",
   "execution_count": 64,
   "id": "71ccec3c",
   "metadata": {},
   "outputs": [],
   "source": [
    "df_texts = {}\n",
    "dirs = ['emoji', 'irony']\n",
    "for d in dirs:\n",
    "    for file in os.listdir('../datasets/'+d+'/raw/'):\n",
    "        if file.endswith('_text.txt'):\n",
    "            textfile = open('../datasets/'+d+'/raw/'+file, encoding= 'utf-8')\n",
    "            name = file[:file.index('_')]\n",
    "            df_texts[d+'-'+name] = tokenize(textfile)"
   ]
  },
  {
   "cell_type": "code",
   "execution_count": 66,
   "id": "43cc24f9",
   "metadata": {},
   "outputs": [
    {
     "data": {
      "text/plain": [
       "['en', 'Pelham', 'Parkway']"
      ]
     },
     "execution_count": 66,
     "metadata": {},
     "output_type": "execute_result"
    }
   ],
   "source": [
    "df_texts['emoji-test'][0]"
   ]
  },
  {
   "cell_type": "code",
   "execution_count": null,
   "id": "51ba2cee",
   "metadata": {},
   "outputs": [],
   "source": []
  }
 ],
 "metadata": {
  "kernelspec": {
   "display_name": "Python 3",
   "language": "python",
   "name": "python3"
  },
  "language_info": {
   "codemirror_mode": {
    "name": "ipython",
    "version": 3
   },
   "file_extension": ".py",
   "mimetype": "text/x-python",
   "name": "python",
   "nbconvert_exporter": "python",
   "pygments_lexer": "ipython3",
   "version": "3.8.8"
  }
 },
 "nbformat": 4,
 "nbformat_minor": 5
}
