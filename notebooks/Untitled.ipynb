{
 "cells": [
  {
   "cell_type": "markdown",
   "id": "def64faa",
   "metadata": {},
   "source": [
    "ATTEMPT TO TOKINZE"
   ]
  },
  {
   "cell_type": "code",
   "execution_count": 28,
   "id": "b533d7eb",
   "metadata": {},
   "outputs": [],
   "source": [
    "import re\n",
    "from collections import Counter\n",
    "import nltk\n",
    "from nltk.corpus import stopwords\n",
    "import os"
   ]
  },
  {
   "cell_type": "code",
   "execution_count": 23,
   "id": "c374b517",
   "metadata": {},
   "outputs": [
    {
     "data": {
      "text/plain": [
       "'@user @user So is he banded from wearing the clothes?  #Karma \\n'"
      ]
     },
     "execution_count": 23,
     "metadata": {},
     "output_type": "execute_result"
    }
   ],
   "source": [
    "IRONY = r'../datasets/irony/raw/'\n",
    "#HATE = r'hate/'"
   ]
  },
  {
   "cell_type": "code",
   "execution_count": 82,
   "id": "b02b38af",
   "metadata": {},
   "outputs": [],
   "source": [
    "def tokenize(textfile):\n",
    "\n",
    "    tokens = []\n",
    "    SPLIT = re.compile(r'[\\s\\.,;\\\"\\-\\_\\|]') # TOOK OUT ? !\n",
    "\n",
    "    for line in textfile.readlines():\n",
    "        words = re.split(SPLIT, line)\n",
    "        words = [w for w in words if (not w.startswith('@') and (w != \"\"))]\n",
    "        #hashtags = [w for w in words if w.startswith('#')]\n",
    "        tokens.append(words)\n",
    "        \n",
    "    return tokens\n",
    "\n",
    "def token_counter(tokens, n= 10, inverse=False):\n",
    "    plain = [t for l in tokens for t in l]\n",
    "    counter = Counter(plain)\n",
    "    if not inverse:\n",
    "        return counter.most_common(n)\n",
    "    else:\n",
    "        return counter.most_common()[:-n-1:-1]"
   ]
  },
  {
   "cell_type": "code",
   "execution_count": 83,
   "id": "08a04bb3",
   "metadata": {},
   "outputs": [],
   "source": [
    "df_texts = {}\n",
    "dirs = ['emoji', 'irony']\n",
    "for d in dirs:\n",
    "    for file in os.listdir('../datasets/'+d+'/raw/'):\n",
    "        if file.endswith('_text.txt'):\n",
    "            textfile = open('../datasets/'+d+'/raw/'+file, encoding= 'utf-8')\n",
    "            name = file[:file.index('_')]\n",
    "            df_texts[d+'-'+name] = tokenize(textfile)"
   ]
  },
  {
   "cell_type": "markdown",
   "id": "5a7980c6",
   "metadata": {},
   "source": [
    "Let's check the less frequent tokens to spot errors"
   ]
  },
  {
   "cell_type": "code",
   "execution_count": 84,
   "id": "744dc760",
   "metadata": {},
   "outputs": [
    {
     "data": {
      "text/plain": [
       "['en', 'Pelham', 'Parkway']"
      ]
     },
     "execution_count": 84,
     "metadata": {},
     "output_type": "execute_result"
    }
   ],
   "source": [
    "df_texts['emoji-test'][0]"
   ]
  },
  {
   "cell_type": "code",
   "execution_count": 86,
   "id": "5238b763",
   "metadata": {},
   "outputs": [
    {
     "data": {
      "text/plain": [
       "[('#DisasterArtistSD…', 1),\n",
       " ('#PrepareForDisaster', 1),\n",
       " ('#TheRoom', 1),\n",
       " ('Ban', 1),\n",
       " ('Protest', 1),\n",
       " ('Soren!', 1),\n",
       " ('#ThemRatedRboyz', 1),\n",
       " ('Swanees', 1),\n",
       " ('Drina', 1),\n",
       " ('#climbingstairs', 1),\n",
       " ('stairs', 1),\n",
       " ('#dtboy', 1),\n",
       " ('Reacting', 1),\n",
       " ('#october3rd…', 1),\n",
       " ('doing!!!!', 1),\n",
       " ('carnita5', 1),\n",
       " ('lunatic', 1),\n",
       " (':moore', 1),\n",
       " ('#criandoandofamily', 1),\n",
       " ('Agradecida', 1)]"
      ]
     },
     "execution_count": 86,
     "metadata": {},
     "output_type": "execute_result"
    }
   ],
   "source": [
    "token_counter(df_texts['emoji-test'], 20, inverse=True)"
   ]
  },
  {
   "cell_type": "code",
   "execution_count": null,
   "id": "7225c78a",
   "metadata": {},
   "outputs": [],
   "source": [
    "for k, v in df_texts.items():"
   ]
  }
 ],
 "metadata": {
  "kernelspec": {
   "display_name": "Python 3",
   "language": "python",
   "name": "python3"
  },
  "language_info": {
   "codemirror_mode": {
    "name": "ipython",
    "version": 3
   },
   "file_extension": ".py",
   "mimetype": "text/x-python",
   "name": "python",
   "nbconvert_exporter": "python",
   "pygments_lexer": "ipython3",
   "version": "3.8.8"
  }
 },
 "nbformat": 4,
 "nbformat_minor": 5
}
