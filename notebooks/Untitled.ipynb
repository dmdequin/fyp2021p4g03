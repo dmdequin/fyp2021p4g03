{
 "cells": [
  {
   "cell_type": "markdown",
   "id": "79fbde8a",
   "metadata": {},
   "source": [
    "ATTEMPT TO TOKINZE"
   ]
  },
  {
   "cell_type": "code",
   "execution_count": 28,
   "id": "2ccdec66",
   "metadata": {},
   "outputs": [],
   "source": [
    "import re\n",
    "from collections import Counter\n",
    "import nltk\n",
    "from nltk.corpus import stopwords\n",
    "import os"
   ]
  },
  {
   "cell_type": "code",
   "execution_count": 23,
   "id": "65d730cd",
   "metadata": {},
   "outputs": [
    {
     "data": {
      "text/plain": [
       "'@user @user So is he banded from wearing the clothes?  #Karma \\n'"
      ]
     },
     "execution_count": 23,
     "metadata": {},
     "output_type": "execute_result"
    }
   ],
   "source": [
    "IRONY = r'../datasets/irony/raw/'\n",
    "#HATE = r'hate/'"
   ]
  },
  {
   "cell_type": "code",
   "execution_count": 25,
   "id": "6673a943",
   "metadata": {},
   "outputs": [],
   "source": [
    "def tokenize(textfile):\n",
    "\n",
    "    tokens = []\n",
    "    SPLIT = re.compile(r'[\\s\\.,;\\\"\\-\\_]') # TOOK OUT ? !\n",
    "\n",
    "    for line in textfile.readlines():\n",
    "        words = re.split(SPLIT, line)\n",
    "        words = [w for w in words if (not w.startswith('@') and (w != \"\"))]\n",
    "        #hashtags = [w for w in words if w.startswith('#')]\n",
    "        tokens.append(words)\n",
    "\n",
    "    plain = [w for x in file_df for w in x]\n",
    "    c = Counter(plain)\n",
    "    \n",
    "    return tokens"
   ]
  },
  {
   "cell_type": "code",
   "execution_count": 26,
   "id": "a84b3ba3",
   "metadata": {},
   "outputs": [],
   "source": [
    "textfile = open(IRONY + 'train_text.txt', encoding= 'utf-8')"
   ]
  },
  {
   "cell_type": "code",
   "execution_count": 34,
   "id": "75dc9216",
   "metadata": {},
   "outputs": [],
   "source": [
    "files = []\n",
    "for root, dirs, filex in os.walk('../datasets/'):\n",
    "    for file in filex:\n",
    "        if file.endswith('.txt'):\n",
    "            files.append(file)"
   ]
  },
  {
   "cell_type": "code",
   "execution_count": 35,
   "id": "061e6410",
   "metadata": {},
   "outputs": [
    {
     "data": {
      "text/plain": [
       "['README.txt',\n",
       " 'mapping.txt',\n",
       " 'test_labels.txt',\n",
       " 'test_text.txt',\n",
       " 'train_labels.txt',\n",
       " 'train_text.txt',\n",
       " 'val_labels.txt',\n",
       " 'val_text.txt',\n",
       " 'mapping.txt',\n",
       " 'test_labels.txt',\n",
       " 'test_text.txt',\n",
       " 'train_labels.txt',\n",
       " 'train_text.txt',\n",
       " 'val_labels.txt',\n",
       " 'val_text.txt']"
      ]
     },
     "execution_count": 35,
     "metadata": {},
     "output_type": "execute_result"
    }
   ],
   "source": []
  },
  {
   "cell_type": "code",
   "execution_count": null,
   "id": "4460ce84",
   "metadata": {},
   "outputs": [],
   "source": []
  }
 ],
 "metadata": {
  "kernelspec": {
   "display_name": "Python 3",
   "language": "python",
   "name": "python3"
  },
  "language_info": {
   "codemirror_mode": {
    "name": "ipython",
    "version": 3
   },
   "file_extension": ".py",
   "mimetype": "text/x-python",
   "name": "python",
   "nbconvert_exporter": "python",
   "pygments_lexer": "ipython3",
   "version": "3.8.8"
  }
 },
 "nbformat": 4,
 "nbformat_minor": 5
}
