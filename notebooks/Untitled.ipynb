{
 "cells": [
  {
   "cell_type": "markdown",
   "id": "5ab79764",
   "metadata": {},
   "source": [
    "ATTEMPT TO TOKINZE"
   ]
  },
  {
   "cell_type": "code",
   "execution_count": 22,
   "id": "5e41b6cb",
   "metadata": {},
   "outputs": [
    {
     "name": "stdout",
     "output_type": "stream",
     "text": [
      "[('the', 6), ('for', 3), ('my', 3), ('to', 3), ('me', 2), ('of', 2), ('she', 2), ('and', 2), ('be', 2), ('I', 2)]\n"
     ]
    }
   ],
   "source": [
    "import re\n",
    "from collections import Counter\n",
    "import nltk\n",
    "from nltk.corpus import stopwords\n",
    "\n",
    "IRONY = r'../datasets/irony/raw/'\n",
    "#HATE = r'hate/'\n",
    "\n",
    "textfile = open(IRONY + 'train_text.txt', encoding= 'utf-8')\n",
    "\n",
    "file_df = []\n",
    "raw = []\n",
    "SPLIT = re.compile(r'[\\s\\.,;\\\"\\-\\_]') # TOOK OUT ? !\n",
    "\n",
    "for line in textfile.readlines()[:10]:\n",
    "    words = re.split(SPLIT, line)\n",
    "    words = [w for w in words if (not w.startswith('@') and (w != \"\"))]\n",
    "    #hashtags = [w for w in words if w.startswith('#')]\n",
    "    raw.append(line)\n",
    "    file_df.append(words)\n",
    "    \n",
    "      \n",
    "plain = [w for x in file_df for w in x]\n",
    "c = Counter(plain)\n",
    "\n",
    "#print(file_df)\n",
    "print(c.most_common(10))\n",
    "#print(stopwords.words('english'))"
   ]
  },
  {
   "cell_type": "code",
   "execution_count": 23,
   "id": "7b0905ac",
   "metadata": {},
   "outputs": [
    {
     "data": {
      "text/plain": [
       "'@user @user So is he banded from wearing the clothes?  #Karma \\n'"
      ]
     },
     "execution_count": 23,
     "metadata": {},
     "output_type": "execute_result"
    }
   ],
   "source": [
    "raw[3]"
   ]
  },
  {
   "cell_type": "code",
   "execution_count": 21,
   "id": "7f2cde91",
   "metadata": {},
   "outputs": [
    {
     "data": {
      "text/plain": [
       "['So', 'is', 'he', 'banded', 'from', 'wearing', 'the', 'clothes', '#Karma']"
      ]
     },
     "execution_count": 21,
     "metadata": {},
     "output_type": "execute_result"
    }
   ],
   "source": [
    "file_df[3]"
   ]
  },
  {
   "cell_type": "code",
   "execution_count": null,
   "id": "8f0d0967",
   "metadata": {},
   "outputs": [],
   "source": []
  }
 ],
 "metadata": {
  "kernelspec": {
   "display_name": "Python 3",
   "language": "python",
   "name": "python3"
  },
  "language_info": {
   "codemirror_mode": {
    "name": "ipython",
    "version": 3
   },
   "file_extension": ".py",
   "mimetype": "text/x-python",
   "name": "python",
   "nbconvert_exporter": "python",
   "pygments_lexer": "ipython3",
   "version": "3.8.8"
  }
 },
 "nbformat": 4,
 "nbformat_minor": 5
}
