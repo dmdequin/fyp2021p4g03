{
 "cells": [
  {
   "cell_type": "markdown",
   "id": "cecd44fb",
   "metadata": {},
   "source": [
    "ATTEMPT TO TOKINZE"
   ]
  },
  {
   "cell_type": "code",
   "execution_count": 22,
   "id": "4ea435cc",
   "metadata": {},
   "outputs": [
    {
     "name": "stdout",
     "output_type": "stream",
     "text": [
      "[('the', 6), ('for', 3), ('my', 3), ('to', 3), ('me', 2), ('of', 2), ('she', 2), ('and', 2), ('be', 2), ('I', 2)]\n"
     ]
    }
   ],
   "source": [
    "import re\n",
    "from collections import Counter\n",
    "import nltk\n",
    "from nltk.corpus import stopwords"
   ]
  },
  {
   "cell_type": "code",
   "execution_count": 23,
   "id": "2b980221",
   "metadata": {},
   "outputs": [
    {
     "data": {
      "text/plain": [
       "'@user @user So is he banded from wearing the clothes?  #Karma \\n'"
      ]
     },
     "execution_count": 23,
     "metadata": {},
     "output_type": "execute_result"
    }
   ],
   "source": [
    "IRONY = r'../datasets/irony/raw/'\n",
    "#HATE = r'hate/'"
   ]
  },
  {
   "cell_type": "code",
   "execution_count": 25,
   "id": "b6027258",
   "metadata": {},
   "outputs": [],
   "source": [
    "def tokenize(textfile):\n",
    "\n",
    "    tokens = []\n",
    "    SPLIT = re.compile(r'[\\s\\.,;\\\"\\-\\_]') # TOOK OUT ? !\n",
    "\n",
    "    for line in textfile.readlines():\n",
    "        words = re.split(SPLIT, line)\n",
    "        words = [w for w in words if (not w.startswith('@') and (w != \"\"))]\n",
    "        #hashtags = [w for w in words if w.startswith('#')]\n",
    "        tokens.append(words)\n",
    "\n",
    "    plain = [w for x in file_df for w in x]\n",
    "    c = Counter(plain)\n",
    "    \n",
    "    return tokens"
   ]
  },
  {
   "cell_type": "code",
   "execution_count": 26,
   "id": "c1b7b80b",
   "metadata": {},
   "outputs": [],
   "source": [
    "textfile = open(IRONY + 'train_text.txt', encoding= 'utf-8')"
   ]
  },
  {
   "cell_type": "code",
   "execution_count": null,
   "id": "53a53587",
   "metadata": {},
   "outputs": [],
   "source": []
  }
 ],
 "metadata": {
  "kernelspec": {
   "display_name": "Python 3",
   "language": "python",
   "name": "python3"
  },
  "language_info": {
   "codemirror_mode": {
    "name": "ipython",
    "version": 3
   },
   "file_extension": ".py",
   "mimetype": "text/x-python",
   "name": "python",
   "nbconvert_exporter": "python",
   "pygments_lexer": "ipython3",
   "version": "3.8.8"
  }
 },
 "nbformat": 4,
 "nbformat_minor": 5
}
