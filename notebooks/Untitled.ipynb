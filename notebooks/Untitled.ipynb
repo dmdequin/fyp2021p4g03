{
 "cells": [
  {
   "cell_type": "markdown",
   "id": "1466ecac",
   "metadata": {},
   "source": [
    "ATTEMPT TO TOKINZE"
   ]
  },
  {
   "cell_type": "code",
   "execution_count": 28,
   "id": "ea73fdde",
   "metadata": {},
   "outputs": [],
   "source": [
    "import re\n",
    "from collections import Counter\n",
    "import nltk\n",
    "from nltk.corpus import stopwords\n",
    "import os"
   ]
  },
  {
   "cell_type": "code",
   "execution_count": 23,
   "id": "929095f0",
   "metadata": {},
   "outputs": [
    {
     "data": {
      "text/plain": [
       "'@user @user So is he banded from wearing the clothes?  #Karma \\n'"
      ]
     },
     "execution_count": 23,
     "metadata": {},
     "output_type": "execute_result"
    }
   ],
   "source": [
    "IRONY = r'../datasets/irony/raw/'\n",
    "#HATE = r'hate/'"
   ]
  },
  {
   "cell_type": "code",
   "execution_count": 25,
   "id": "c6ee569d",
   "metadata": {},
   "outputs": [],
   "source": [
    "def tokenize(textfile):\n",
    "\n",
    "    tokens = []\n",
    "    SPLIT = re.compile(r'[\\s\\.,;\\\"\\-\\_]') # TOOK OUT ? !\n",
    "\n",
    "    for line in textfile.readlines():\n",
    "        words = re.split(SPLIT, line)\n",
    "        words = [w for w in words if (not w.startswith('@') and (w != \"\"))]\n",
    "        #hashtags = [w for w in words if w.startswith('#')]\n",
    "        tokens.append(words)\n",
    "\n",
    "    plain = [w for x in file_df for w in x]\n",
    "    c = Counter(plain)\n",
    "    \n",
    "    return tokens"
   ]
  },
  {
   "cell_type": "code",
   "execution_count": 50,
   "id": "e371d1ca",
   "metadata": {},
   "outputs": [],
   "source": [
    "df_texts = {}\n",
    "dirs = ['emoji', 'irony']\n",
    "for d in dirs:\n",
    "    for file in os.listdir('../datasets/'+d+'/raw/'):\n",
    "        if file.endswith('_text.txt'):\n",
    "            textfile = open(os.path.join(root, file), encoding= 'utf-8')\n",
    "            df_texts[d+'-'+file] = tokenize(textfile)"
   ]
  },
  {
   "cell_type": "code",
   "execution_count": 52,
   "id": "3c67b847",
   "metadata": {},
   "outputs": [
    {
     "data": {
      "text/plain": [
       "dict_keys(['emoji-test_text.txt', 'emoji-train_text.txt', 'emoji-val_text.txt', 'irony-test_text.txt', 'irony-train_text.txt', 'irony-val_text.txt'])"
      ]
     },
     "execution_count": 52,
     "metadata": {},
     "output_type": "execute_result"
    }
   ],
   "source": [
    "df_texts.keys()"
   ]
  },
  {
   "cell_type": "code",
   "execution_count": null,
   "id": "5bbc58de",
   "metadata": {},
   "outputs": [],
   "source": []
  }
 ],
 "metadata": {
  "kernelspec": {
   "display_name": "Python 3",
   "language": "python",
   "name": "python3"
  },
  "language_info": {
   "codemirror_mode": {
    "name": "ipython",
    "version": 3
   },
   "file_extension": ".py",
   "mimetype": "text/x-python",
   "name": "python",
   "nbconvert_exporter": "python",
   "pygments_lexer": "ipython3",
   "version": "3.8.8"
  }
 },
 "nbformat": 4,
 "nbformat_minor": 5
}
